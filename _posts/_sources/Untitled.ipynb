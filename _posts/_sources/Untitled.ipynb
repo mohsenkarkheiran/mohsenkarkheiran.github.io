{
 "cells": [
  {
   "cell_type": "code",
   "execution_count": 2,
   "id": "7214945e-024c-4138-a4c9-9b2076a668c0",
   "metadata": {},
   "outputs": [],
   "source": [
    "import nbformat\n",
    "\n",
    "nb = nbformat.read(open(\"PINNs_deepXDE.ipynb\"), as_version=4)\n",
    "nb['metadata']['kernelspec']['name'] = 'python3'  # or the valid name from above\n",
    "nbformat.write(nb, open(\"PINNs_deepXDE.ipynb\", \"w\"))\n"
   ]
  },
  {
   "cell_type": "code",
   "execution_count": null,
   "id": "947334e3-acb4-4936-923e-6f2e880030da",
   "metadata": {},
   "outputs": [],
   "source": []
  }
 ],
 "metadata": {
  "kernelspec": {
   "display_name": "Python [conda env:base] *",
   "language": "python",
   "name": "conda-base-py"
  },
  "language_info": {
   "codemirror_mode": {
    "name": "ipython",
    "version": 3
   },
   "file_extension": ".py",
   "mimetype": "text/x-python",
   "name": "python",
   "nbconvert_exporter": "python",
   "pygments_lexer": "ipython3",
   "version": "3.11.4"
  }
 },
 "nbformat": 4,
 "nbformat_minor": 5
}
